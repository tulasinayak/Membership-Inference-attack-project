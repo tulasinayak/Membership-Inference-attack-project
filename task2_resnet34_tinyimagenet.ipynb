{
  "nbformat": 4,
  "nbformat_minor": 0,
  "metadata": {
    "colab": {
      "provenance": [],
      "gpuType": "T4"
    },
    "kernelspec": {
      "name": "python3",
      "display_name": "Python 3"
    },
    "language_info": {
      "name": "python"
    },
    "accelerator": "GPU"
  },
  "cells": [
    {
      "cell_type": "code",
      "source": [
        "from google.colab import drive\n",
        "drive.mount('/content/drive')"
      ],
      "metadata": {
        "colab": {
          "base_uri": "https://localhost:8080/"
        },
        "id": "1EvB-BMFBMKs",
        "outputId": "77cd03be-8e55-44f5-e1ae-a8b8d7ca560f"
      },
      "execution_count": null,
      "outputs": [
        {
          "output_type": "stream",
          "name": "stdout",
          "text": [
            "Mounted at /content/drive\n"
          ]
        }
      ]
    },
    {
      "cell_type": "code",
      "execution_count": null,
      "metadata": {
        "id": "V1fjkLbDBD0m"
      },
      "outputs": [],
      "source": [
        "#Loading the dataset shadow.p\n",
        "import pickle\n",
        "import torch\n",
        "\n",
        "DATA_PATH = \"/content/drive/MyDrive/AMLM/pickle/tinyimagenet/resnet34/shadow.p\"\n",
        "device=torch.device(\"cuda:0\" if torch.cuda.is_available() else \"cpu\")\n",
        "\n",
        "with open(DATA_PATH, \"rb\") as f:\n",
        "    dataset = pickle.load(f)\n",
        "\n",
        "dataloader = torch.utils.data.DataLoader(\n",
        "    dataset, batch_size=64, shuffle=False, num_workers=2)\n",
        "\n",
        "for batch_idx, (img, label) in enumerate(dataloader):\n",
        "    img = img.to(device)"
      ]
    },
    {
      "cell_type": "code",
      "source": [
        "print(type(dataset), len(dataset))"
      ],
      "metadata": {
        "colab": {
          "base_uri": "https://localhost:8080/"
        },
        "id": "JaepGxFhFxp2",
        "outputId": "5ac01727-de05-4e5a-cb70-a9fc3ce74030"
      },
      "execution_count": null,
      "outputs": [
        {
          "output_type": "stream",
          "name": "stdout",
          "text": [
            "<class 'list'> 50000\n"
          ]
        }
      ]
    },
    {
      "cell_type": "code",
      "source": [
        "import pickle\n",
        "import torch\n",
        "import torch.nn as nn\n",
        "import torch.optim as optim\n",
        "from torchvision import transforms\n",
        "from torch.utils.data import DataLoader, Dataset\n",
        "from sklearn.model_selection import train_test_split"
      ],
      "metadata": {
        "id": "YAxKReT4ItWm"
      },
      "execution_count": null,
      "outputs": []
    },
    {
      "cell_type": "code",
      "source": [
        "device = torch.device(\"cuda:0\" if torch.cuda.is_available() else \"cpu\")\n",
        "\n",
        "with open(DATA_PATH, \"rb\") as f:\n",
        "    shadow_dataset = pickle.load(f)"
      ],
      "metadata": {
        "id": "q4pP0_wrIvye"
      },
      "execution_count": null,
      "outputs": []
    },
    {
      "cell_type": "code",
      "source": [
        "#Custom Dataset for the shadow model\n",
        "class CustomDataset(Dataset):\n",
        "    def __init__(self, data, transform=None):\n",
        "        self.data = data\n",
        "        self.transform = transform\n",
        "\n",
        "    def __len__(self):\n",
        "        return len(self.data)\n",
        "\n",
        "    def __getitem__(self, idx):\n",
        "        image, label = self.data[idx]\n",
        "        if self.transform:\n",
        "            image = self.transform(image)\n",
        "        return image, label\n",
        "\n",
        "train_data, test_data = train_test_split(shadow_dataset, test_size=0.2, random_state=42)\n",
        "\n",
        "transform = transforms.Compose([\n",
        "    transforms.Resize((224, 224)),\n",
        "    transforms.Normalize((0.485, 0.456, 0.406), (0.229, 0.224, 0.225))\n",
        "])\n",
        "\n",
        "train_dataset = CustomDataset(train_data, transform=transform)\n",
        "test_dataset = CustomDataset(test_data, transform=transform)\n",
        "\n",
        "train_loader = DataLoader(train_dataset, batch_size=80, shuffle=True, num_workers=2)\n",
        "test_loader = DataLoader(test_dataset, batch_size=80, shuffle=False, num_workers=2)\n",
        "print(\"Length of train_data:\", len(train_data))\n",
        "print(\"Length of test_data:\", len(test_data))"
      ],
      "metadata": {
        "colab": {
          "base_uri": "https://localhost:8080/"
        },
        "id": "UJioL71OI2U_",
        "outputId": "4accfc54-96fd-4fa8-ee55-635670b1283c"
      },
      "execution_count": null,
      "outputs": [
        {
          "output_type": "stream",
          "name": "stdout",
          "text": [
            "Length of train_data: 40000\n",
            "Length of test_data: 10000\n"
          ]
        }
      ]
    },
    {
      "cell_type": "code",
      "source": [
        "from torchvision import models"
      ],
      "metadata": {
        "id": "x5wiUhpxNVF9"
      },
      "execution_count": null,
      "outputs": []
    },
    {
      "cell_type": "code",
      "source": [
        "num_classes = len(set([label for _, label in shadow_dataset]))\n",
        "resnet34 = models.resnet34(pretrained=True)\n",
        "resnet34.fc = nn.Linear(resnet34.fc.in_features, num_classes)"
      ],
      "metadata": {
        "colab": {
          "base_uri": "https://localhost:8080/"
        },
        "id": "ymq3tkhhMDhD",
        "outputId": "96406dfa-126d-4481-ab26-bd2a932422fa"
      },
      "execution_count": null,
      "outputs": [
        {
          "output_type": "stream",
          "name": "stderr",
          "text": [
            "/usr/local/lib/python3.10/dist-packages/torchvision/models/_utils.py:208: UserWarning: The parameter 'pretrained' is deprecated since 0.13 and may be removed in the future, please use 'weights' instead.\n",
            "  warnings.warn(\n",
            "/usr/local/lib/python3.10/dist-packages/torchvision/models/_utils.py:223: UserWarning: Arguments other than a weight enum or `None` for 'weights' are deprecated since 0.13 and may be removed in the future. The current behavior is equivalent to passing `weights=ResNet34_Weights.IMAGENET1K_V1`. You can also use `weights=ResNet34_Weights.DEFAULT` to get the most up-to-date weights.\n",
            "  warnings.warn(msg)\n",
            "Downloading: \"https://download.pytorch.org/models/resnet34-b627a593.pth\" to /root/.cache/torch/hub/checkpoints/resnet34-b627a593.pth\n",
            "100%|██████████| 83.3M/83.3M [00:00<00:00, 162MB/s]\n"
          ]
        }
      ]
    },
    {
      "cell_type": "code",
      "source": [
        "resnet34.to(device)"
      ],
      "metadata": {
        "collapsed": true,
        "colab": {
          "base_uri": "https://localhost:8080/"
        },
        "id": "Xuy00e_CMGUN",
        "outputId": "66aba538-5d15-451d-c752-5f3411d59b16"
      },
      "execution_count": null,
      "outputs": [
        {
          "output_type": "execute_result",
          "data": {
            "text/plain": [
              "ResNet(\n",
              "  (conv1): Conv2d(3, 64, kernel_size=(7, 7), stride=(2, 2), padding=(3, 3), bias=False)\n",
              "  (bn1): BatchNorm2d(64, eps=1e-05, momentum=0.1, affine=True, track_running_stats=True)\n",
              "  (relu): ReLU(inplace=True)\n",
              "  (maxpool): MaxPool2d(kernel_size=3, stride=2, padding=1, dilation=1, ceil_mode=False)\n",
              "  (layer1): Sequential(\n",
              "    (0): BasicBlock(\n",
              "      (conv1): Conv2d(64, 64, kernel_size=(3, 3), stride=(1, 1), padding=(1, 1), bias=False)\n",
              "      (bn1): BatchNorm2d(64, eps=1e-05, momentum=0.1, affine=True, track_running_stats=True)\n",
              "      (relu): ReLU(inplace=True)\n",
              "      (conv2): Conv2d(64, 64, kernel_size=(3, 3), stride=(1, 1), padding=(1, 1), bias=False)\n",
              "      (bn2): BatchNorm2d(64, eps=1e-05, momentum=0.1, affine=True, track_running_stats=True)\n",
              "    )\n",
              "    (1): BasicBlock(\n",
              "      (conv1): Conv2d(64, 64, kernel_size=(3, 3), stride=(1, 1), padding=(1, 1), bias=False)\n",
              "      (bn1): BatchNorm2d(64, eps=1e-05, momentum=0.1, affine=True, track_running_stats=True)\n",
              "      (relu): ReLU(inplace=True)\n",
              "      (conv2): Conv2d(64, 64, kernel_size=(3, 3), stride=(1, 1), padding=(1, 1), bias=False)\n",
              "      (bn2): BatchNorm2d(64, eps=1e-05, momentum=0.1, affine=True, track_running_stats=True)\n",
              "    )\n",
              "    (2): BasicBlock(\n",
              "      (conv1): Conv2d(64, 64, kernel_size=(3, 3), stride=(1, 1), padding=(1, 1), bias=False)\n",
              "      (bn1): BatchNorm2d(64, eps=1e-05, momentum=0.1, affine=True, track_running_stats=True)\n",
              "      (relu): ReLU(inplace=True)\n",
              "      (conv2): Conv2d(64, 64, kernel_size=(3, 3), stride=(1, 1), padding=(1, 1), bias=False)\n",
              "      (bn2): BatchNorm2d(64, eps=1e-05, momentum=0.1, affine=True, track_running_stats=True)\n",
              "    )\n",
              "  )\n",
              "  (layer2): Sequential(\n",
              "    (0): BasicBlock(\n",
              "      (conv1): Conv2d(64, 128, kernel_size=(3, 3), stride=(2, 2), padding=(1, 1), bias=False)\n",
              "      (bn1): BatchNorm2d(128, eps=1e-05, momentum=0.1, affine=True, track_running_stats=True)\n",
              "      (relu): ReLU(inplace=True)\n",
              "      (conv2): Conv2d(128, 128, kernel_size=(3, 3), stride=(1, 1), padding=(1, 1), bias=False)\n",
              "      (bn2): BatchNorm2d(128, eps=1e-05, momentum=0.1, affine=True, track_running_stats=True)\n",
              "      (downsample): Sequential(\n",
              "        (0): Conv2d(64, 128, kernel_size=(1, 1), stride=(2, 2), bias=False)\n",
              "        (1): BatchNorm2d(128, eps=1e-05, momentum=0.1, affine=True, track_running_stats=True)\n",
              "      )\n",
              "    )\n",
              "    (1): BasicBlock(\n",
              "      (conv1): Conv2d(128, 128, kernel_size=(3, 3), stride=(1, 1), padding=(1, 1), bias=False)\n",
              "      (bn1): BatchNorm2d(128, eps=1e-05, momentum=0.1, affine=True, track_running_stats=True)\n",
              "      (relu): ReLU(inplace=True)\n",
              "      (conv2): Conv2d(128, 128, kernel_size=(3, 3), stride=(1, 1), padding=(1, 1), bias=False)\n",
              "      (bn2): BatchNorm2d(128, eps=1e-05, momentum=0.1, affine=True, track_running_stats=True)\n",
              "    )\n",
              "    (2): BasicBlock(\n",
              "      (conv1): Conv2d(128, 128, kernel_size=(3, 3), stride=(1, 1), padding=(1, 1), bias=False)\n",
              "      (bn1): BatchNorm2d(128, eps=1e-05, momentum=0.1, affine=True, track_running_stats=True)\n",
              "      (relu): ReLU(inplace=True)\n",
              "      (conv2): Conv2d(128, 128, kernel_size=(3, 3), stride=(1, 1), padding=(1, 1), bias=False)\n",
              "      (bn2): BatchNorm2d(128, eps=1e-05, momentum=0.1, affine=True, track_running_stats=True)\n",
              "    )\n",
              "    (3): BasicBlock(\n",
              "      (conv1): Conv2d(128, 128, kernel_size=(3, 3), stride=(1, 1), padding=(1, 1), bias=False)\n",
              "      (bn1): BatchNorm2d(128, eps=1e-05, momentum=0.1, affine=True, track_running_stats=True)\n",
              "      (relu): ReLU(inplace=True)\n",
              "      (conv2): Conv2d(128, 128, kernel_size=(3, 3), stride=(1, 1), padding=(1, 1), bias=False)\n",
              "      (bn2): BatchNorm2d(128, eps=1e-05, momentum=0.1, affine=True, track_running_stats=True)\n",
              "    )\n",
              "  )\n",
              "  (layer3): Sequential(\n",
              "    (0): BasicBlock(\n",
              "      (conv1): Conv2d(128, 256, kernel_size=(3, 3), stride=(2, 2), padding=(1, 1), bias=False)\n",
              "      (bn1): BatchNorm2d(256, eps=1e-05, momentum=0.1, affine=True, track_running_stats=True)\n",
              "      (relu): ReLU(inplace=True)\n",
              "      (conv2): Conv2d(256, 256, kernel_size=(3, 3), stride=(1, 1), padding=(1, 1), bias=False)\n",
              "      (bn2): BatchNorm2d(256, eps=1e-05, momentum=0.1, affine=True, track_running_stats=True)\n",
              "      (downsample): Sequential(\n",
              "        (0): Conv2d(128, 256, kernel_size=(1, 1), stride=(2, 2), bias=False)\n",
              "        (1): BatchNorm2d(256, eps=1e-05, momentum=0.1, affine=True, track_running_stats=True)\n",
              "      )\n",
              "    )\n",
              "    (1): BasicBlock(\n",
              "      (conv1): Conv2d(256, 256, kernel_size=(3, 3), stride=(1, 1), padding=(1, 1), bias=False)\n",
              "      (bn1): BatchNorm2d(256, eps=1e-05, momentum=0.1, affine=True, track_running_stats=True)\n",
              "      (relu): ReLU(inplace=True)\n",
              "      (conv2): Conv2d(256, 256, kernel_size=(3, 3), stride=(1, 1), padding=(1, 1), bias=False)\n",
              "      (bn2): BatchNorm2d(256, eps=1e-05, momentum=0.1, affine=True, track_running_stats=True)\n",
              "    )\n",
              "    (2): BasicBlock(\n",
              "      (conv1): Conv2d(256, 256, kernel_size=(3, 3), stride=(1, 1), padding=(1, 1), bias=False)\n",
              "      (bn1): BatchNorm2d(256, eps=1e-05, momentum=0.1, affine=True, track_running_stats=True)\n",
              "      (relu): ReLU(inplace=True)\n",
              "      (conv2): Conv2d(256, 256, kernel_size=(3, 3), stride=(1, 1), padding=(1, 1), bias=False)\n",
              "      (bn2): BatchNorm2d(256, eps=1e-05, momentum=0.1, affine=True, track_running_stats=True)\n",
              "    )\n",
              "    (3): BasicBlock(\n",
              "      (conv1): Conv2d(256, 256, kernel_size=(3, 3), stride=(1, 1), padding=(1, 1), bias=False)\n",
              "      (bn1): BatchNorm2d(256, eps=1e-05, momentum=0.1, affine=True, track_running_stats=True)\n",
              "      (relu): ReLU(inplace=True)\n",
              "      (conv2): Conv2d(256, 256, kernel_size=(3, 3), stride=(1, 1), padding=(1, 1), bias=False)\n",
              "      (bn2): BatchNorm2d(256, eps=1e-05, momentum=0.1, affine=True, track_running_stats=True)\n",
              "    )\n",
              "    (4): BasicBlock(\n",
              "      (conv1): Conv2d(256, 256, kernel_size=(3, 3), stride=(1, 1), padding=(1, 1), bias=False)\n",
              "      (bn1): BatchNorm2d(256, eps=1e-05, momentum=0.1, affine=True, track_running_stats=True)\n",
              "      (relu): ReLU(inplace=True)\n",
              "      (conv2): Conv2d(256, 256, kernel_size=(3, 3), stride=(1, 1), padding=(1, 1), bias=False)\n",
              "      (bn2): BatchNorm2d(256, eps=1e-05, momentum=0.1, affine=True, track_running_stats=True)\n",
              "    )\n",
              "    (5): BasicBlock(\n",
              "      (conv1): Conv2d(256, 256, kernel_size=(3, 3), stride=(1, 1), padding=(1, 1), bias=False)\n",
              "      (bn1): BatchNorm2d(256, eps=1e-05, momentum=0.1, affine=True, track_running_stats=True)\n",
              "      (relu): ReLU(inplace=True)\n",
              "      (conv2): Conv2d(256, 256, kernel_size=(3, 3), stride=(1, 1), padding=(1, 1), bias=False)\n",
              "      (bn2): BatchNorm2d(256, eps=1e-05, momentum=0.1, affine=True, track_running_stats=True)\n",
              "    )\n",
              "  )\n",
              "  (layer4): Sequential(\n",
              "    (0): BasicBlock(\n",
              "      (conv1): Conv2d(256, 512, kernel_size=(3, 3), stride=(2, 2), padding=(1, 1), bias=False)\n",
              "      (bn1): BatchNorm2d(512, eps=1e-05, momentum=0.1, affine=True, track_running_stats=True)\n",
              "      (relu): ReLU(inplace=True)\n",
              "      (conv2): Conv2d(512, 512, kernel_size=(3, 3), stride=(1, 1), padding=(1, 1), bias=False)\n",
              "      (bn2): BatchNorm2d(512, eps=1e-05, momentum=0.1, affine=True, track_running_stats=True)\n",
              "      (downsample): Sequential(\n",
              "        (0): Conv2d(256, 512, kernel_size=(1, 1), stride=(2, 2), bias=False)\n",
              "        (1): BatchNorm2d(512, eps=1e-05, momentum=0.1, affine=True, track_running_stats=True)\n",
              "      )\n",
              "    )\n",
              "    (1): BasicBlock(\n",
              "      (conv1): Conv2d(512, 512, kernel_size=(3, 3), stride=(1, 1), padding=(1, 1), bias=False)\n",
              "      (bn1): BatchNorm2d(512, eps=1e-05, momentum=0.1, affine=True, track_running_stats=True)\n",
              "      (relu): ReLU(inplace=True)\n",
              "      (conv2): Conv2d(512, 512, kernel_size=(3, 3), stride=(1, 1), padding=(1, 1), bias=False)\n",
              "      (bn2): BatchNorm2d(512, eps=1e-05, momentum=0.1, affine=True, track_running_stats=True)\n",
              "    )\n",
              "    (2): BasicBlock(\n",
              "      (conv1): Conv2d(512, 512, kernel_size=(3, 3), stride=(1, 1), padding=(1, 1), bias=False)\n",
              "      (bn1): BatchNorm2d(512, eps=1e-05, momentum=0.1, affine=True, track_running_stats=True)\n",
              "      (relu): ReLU(inplace=True)\n",
              "      (conv2): Conv2d(512, 512, kernel_size=(3, 3), stride=(1, 1), padding=(1, 1), bias=False)\n",
              "      (bn2): BatchNorm2d(512, eps=1e-05, momentum=0.1, affine=True, track_running_stats=True)\n",
              "    )\n",
              "  )\n",
              "  (avgpool): AdaptiveAvgPool2d(output_size=(1, 1))\n",
              "  (fc): Linear(in_features=512, out_features=200, bias=True)\n",
              ")"
            ]
          },
          "metadata": {},
          "execution_count": 9
        }
      ]
    },
    {
      "cell_type": "code",
      "source": [
        "# Define the loss function and optimizer\n",
        "criterion = nn.CrossEntropyLoss()\n",
        "optimizer = optim.Adam(resnet34.parameters(), lr=0.0001)"
      ],
      "metadata": {
        "id": "hOL4n5q4PPQy"
      },
      "execution_count": null,
      "outputs": []
    },
    {
      "cell_type": "code",
      "source": [
        "# Training the shadow model\n",
        "num_epochs = 18\n",
        "\n",
        "for epoch in range(num_epochs):\n",
        "    resnet34.train()\n",
        "    running_loss = 0.0\n",
        "    for images, labels in train_loader:\n",
        "        images, labels = images.to(device), labels.to(device)\n",
        "        optimizer.zero_grad()\n",
        "        outputs = resnet34(images)\n",
        "        loss = criterion(outputs, labels)\n",
        "        loss.backward()\n",
        "        optimizer.step()\n",
        "\n",
        "        running_loss += loss.item()\n",
        "\n",
        "    print(f\"Epoch {epoch+1}, Loss: {running_loss/len(train_loader)}\")"
      ],
      "metadata": {
        "colab": {
          "base_uri": "https://localhost:8080/",
          "height": 211
        },
        "id": "2E4XawGOMR42",
        "outputId": "083d17d9-e3bc-43fa-d1e6-3549a79d4dc4"
      },
      "execution_count": null,
      "outputs": [
        {
          "output_type": "error",
          "ename": "KeyboardInterrupt",
          "evalue": "",
          "traceback": [
            "\u001b[0;31m---------------------------------------------------------------------------\u001b[0m",
            "\u001b[0;31mKeyboardInterrupt\u001b[0m                         Traceback (most recent call last)",
            "\u001b[0;32m<ipython-input-11-5eb9d71279a7>\u001b[0m in \u001b[0;36m<cell line: 4>\u001b[0;34m()\u001b[0m\n\u001b[1;32m     13\u001b[0m         \u001b[0moptimizer\u001b[0m\u001b[0;34m.\u001b[0m\u001b[0mstep\u001b[0m\u001b[0;34m(\u001b[0m\u001b[0;34m)\u001b[0m\u001b[0;34m\u001b[0m\u001b[0;34m\u001b[0m\u001b[0m\n\u001b[1;32m     14\u001b[0m \u001b[0;34m\u001b[0m\u001b[0m\n\u001b[0;32m---> 15\u001b[0;31m         \u001b[0mrunning_loss\u001b[0m \u001b[0;34m+=\u001b[0m \u001b[0mloss\u001b[0m\u001b[0;34m.\u001b[0m\u001b[0mitem\u001b[0m\u001b[0;34m(\u001b[0m\u001b[0;34m)\u001b[0m\u001b[0;34m\u001b[0m\u001b[0;34m\u001b[0m\u001b[0m\n\u001b[0m\u001b[1;32m     16\u001b[0m \u001b[0;34m\u001b[0m\u001b[0m\n\u001b[1;32m     17\u001b[0m     \u001b[0mprint\u001b[0m\u001b[0;34m(\u001b[0m\u001b[0;34mf\"Epoch {epoch+1}, Loss: {running_loss/len(train_loader)}\"\u001b[0m\u001b[0;34m)\u001b[0m\u001b[0;34m\u001b[0m\u001b[0;34m\u001b[0m\u001b[0m\n",
            "\u001b[0;31mKeyboardInterrupt\u001b[0m: "
          ]
        }
      ]
    },
    {
      "cell_type": "code",
      "source": [
        "# Evaluating the shadow model\n",
        "resnet34.eval()\n",
        "correct = 0\n",
        "total = 0\n",
        "with torch.no_grad():\n",
        "    for images, labels in test_loader:\n",
        "        images, labels = images.to(device), labels.to(device)\n",
        "        outputs = resnet34(images)\n",
        "        _, predicted = torch.max(outputs.data, 1)\n",
        "        total += labels.size(0)\n",
        "        correct += (predicted == labels).sum().item()\n",
        "\n",
        "print(f\"Test Accuracy: {100 * correct / total}%\")"
      ],
      "metadata": {
        "colab": {
          "base_uri": "https://localhost:8080/"
        },
        "id": "3s4f4cjqN2FA",
        "outputId": "f0ce2120-9f95-4faf-d50e-fdeda0b0dc91"
      },
      "execution_count": null,
      "outputs": [
        {
          "output_type": "stream",
          "name": "stdout",
          "text": [
            "Test Accuracy: 62.17%\n"
          ]
        }
      ]
    },
    {
      "cell_type": "code",
      "source": [
        "print(num_classes)"
      ],
      "metadata": {
        "colab": {
          "base_uri": "https://localhost:8080/"
        },
        "id": "e6PMHGifbsTf",
        "outputId": "9414d5f6-ab6b-422c-f2f1-868b5c3e560e"
      },
      "execution_count": null,
      "outputs": [
        {
          "output_type": "stream",
          "name": "stdout",
          "text": [
            "200\n"
          ]
        }
      ]
    },
    {
      "cell_type": "code",
      "source": [
        "# Save the model\n",
        "torch.save(resnet34, '/content/drive/MyDrive/AMLM/pickle/shadow_model.pth')"
      ],
      "metadata": {
        "id": "DRgkn5pTQLMw"
      },
      "execution_count": null,
      "outputs": []
    },
    {
      "cell_type": "code",
      "source": [
        "shadow_model= torch.load(\"/content/drive/MyDrive/AMLM/pickle/shadow_model.pth\", map_location=torch.device('cpu'))"
      ],
      "metadata": {
        "id": "54NKnSwd4vfp"
      },
      "execution_count": null,
      "outputs": []
    },
    {
      "cell_type": "code",
      "source": [
        "# Evaluating the shadow model\n",
        "shadow_model.eval()\n",
        "correct = 0\n",
        "total = 0\n",
        "with torch.no_grad():\n",
        "    for images, labels in test_loader:\n",
        "        images, labels = images.to(device), labels.to(device)\n",
        "        outputs = resnet34(images)\n",
        "        _, predicted = torch.max(outputs.data, 1)\n",
        "        total += labels.size(0)\n",
        "        correct += (predicted == labels).sum().item()\n",
        "\n",
        "print(f\"Test Accuracy: {100 * correct / total}%\")"
      ],
      "metadata": {
        "colab": {
          "base_uri": "https://localhost:8080/"
        },
        "id": "evOhUCzn6aym",
        "outputId": "d2d64fb8-a282-4110-91ae-45461910475d"
      },
      "execution_count": null,
      "outputs": [
        {
          "output_type": "stream",
          "name": "stdout",
          "text": [
            "Test Accuracy: 62.17%\n"
          ]
        }
      ]
    },
    {
      "cell_type": "code",
      "source": [
        "device = torch.device(\"cuda:0\" if torch.cuda.is_available() else \"cpu\")\n"
      ],
      "metadata": {
        "id": "psd12lTL5ENK"
      },
      "execution_count": null,
      "outputs": []
    },
    {
      "cell_type": "code",
      "source": [
        "shadow_model.to(device)"
      ],
      "metadata": {
        "collapsed": true,
        "colab": {
          "base_uri": "https://localhost:8080/"
        },
        "id": "jmhsqd7L49Fw",
        "outputId": "2ccd94ba-7f72-41ad-b6ca-204536a61e84"
      },
      "execution_count": null,
      "outputs": [
        {
          "output_type": "execute_result",
          "data": {
            "text/plain": [
              "ResNet(\n",
              "  (conv1): Conv2d(3, 64, kernel_size=(7, 7), stride=(2, 2), padding=(3, 3), bias=False)\n",
              "  (bn1): BatchNorm2d(64, eps=1e-05, momentum=0.1, affine=True, track_running_stats=True)\n",
              "  (relu): ReLU(inplace=True)\n",
              "  (maxpool): MaxPool2d(kernel_size=3, stride=2, padding=1, dilation=1, ceil_mode=False)\n",
              "  (layer1): Sequential(\n",
              "    (0): BasicBlock(\n",
              "      (conv1): Conv2d(64, 64, kernel_size=(3, 3), stride=(1, 1), padding=(1, 1), bias=False)\n",
              "      (bn1): BatchNorm2d(64, eps=1e-05, momentum=0.1, affine=True, track_running_stats=True)\n",
              "      (relu): ReLU(inplace=True)\n",
              "      (conv2): Conv2d(64, 64, kernel_size=(3, 3), stride=(1, 1), padding=(1, 1), bias=False)\n",
              "      (bn2): BatchNorm2d(64, eps=1e-05, momentum=0.1, affine=True, track_running_stats=True)\n",
              "    )\n",
              "    (1): BasicBlock(\n",
              "      (conv1): Conv2d(64, 64, kernel_size=(3, 3), stride=(1, 1), padding=(1, 1), bias=False)\n",
              "      (bn1): BatchNorm2d(64, eps=1e-05, momentum=0.1, affine=True, track_running_stats=True)\n",
              "      (relu): ReLU(inplace=True)\n",
              "      (conv2): Conv2d(64, 64, kernel_size=(3, 3), stride=(1, 1), padding=(1, 1), bias=False)\n",
              "      (bn2): BatchNorm2d(64, eps=1e-05, momentum=0.1, affine=True, track_running_stats=True)\n",
              "    )\n",
              "    (2): BasicBlock(\n",
              "      (conv1): Conv2d(64, 64, kernel_size=(3, 3), stride=(1, 1), padding=(1, 1), bias=False)\n",
              "      (bn1): BatchNorm2d(64, eps=1e-05, momentum=0.1, affine=True, track_running_stats=True)\n",
              "      (relu): ReLU(inplace=True)\n",
              "      (conv2): Conv2d(64, 64, kernel_size=(3, 3), stride=(1, 1), padding=(1, 1), bias=False)\n",
              "      (bn2): BatchNorm2d(64, eps=1e-05, momentum=0.1, affine=True, track_running_stats=True)\n",
              "    )\n",
              "  )\n",
              "  (layer2): Sequential(\n",
              "    (0): BasicBlock(\n",
              "      (conv1): Conv2d(64, 128, kernel_size=(3, 3), stride=(2, 2), padding=(1, 1), bias=False)\n",
              "      (bn1): BatchNorm2d(128, eps=1e-05, momentum=0.1, affine=True, track_running_stats=True)\n",
              "      (relu): ReLU(inplace=True)\n",
              "      (conv2): Conv2d(128, 128, kernel_size=(3, 3), stride=(1, 1), padding=(1, 1), bias=False)\n",
              "      (bn2): BatchNorm2d(128, eps=1e-05, momentum=0.1, affine=True, track_running_stats=True)\n",
              "      (downsample): Sequential(\n",
              "        (0): Conv2d(64, 128, kernel_size=(1, 1), stride=(2, 2), bias=False)\n",
              "        (1): BatchNorm2d(128, eps=1e-05, momentum=0.1, affine=True, track_running_stats=True)\n",
              "      )\n",
              "    )\n",
              "    (1): BasicBlock(\n",
              "      (conv1): Conv2d(128, 128, kernel_size=(3, 3), stride=(1, 1), padding=(1, 1), bias=False)\n",
              "      (bn1): BatchNorm2d(128, eps=1e-05, momentum=0.1, affine=True, track_running_stats=True)\n",
              "      (relu): ReLU(inplace=True)\n",
              "      (conv2): Conv2d(128, 128, kernel_size=(3, 3), stride=(1, 1), padding=(1, 1), bias=False)\n",
              "      (bn2): BatchNorm2d(128, eps=1e-05, momentum=0.1, affine=True, track_running_stats=True)\n",
              "    )\n",
              "    (2): BasicBlock(\n",
              "      (conv1): Conv2d(128, 128, kernel_size=(3, 3), stride=(1, 1), padding=(1, 1), bias=False)\n",
              "      (bn1): BatchNorm2d(128, eps=1e-05, momentum=0.1, affine=True, track_running_stats=True)\n",
              "      (relu): ReLU(inplace=True)\n",
              "      (conv2): Conv2d(128, 128, kernel_size=(3, 3), stride=(1, 1), padding=(1, 1), bias=False)\n",
              "      (bn2): BatchNorm2d(128, eps=1e-05, momentum=0.1, affine=True, track_running_stats=True)\n",
              "    )\n",
              "    (3): BasicBlock(\n",
              "      (conv1): Conv2d(128, 128, kernel_size=(3, 3), stride=(1, 1), padding=(1, 1), bias=False)\n",
              "      (bn1): BatchNorm2d(128, eps=1e-05, momentum=0.1, affine=True, track_running_stats=True)\n",
              "      (relu): ReLU(inplace=True)\n",
              "      (conv2): Conv2d(128, 128, kernel_size=(3, 3), stride=(1, 1), padding=(1, 1), bias=False)\n",
              "      (bn2): BatchNorm2d(128, eps=1e-05, momentum=0.1, affine=True, track_running_stats=True)\n",
              "    )\n",
              "  )\n",
              "  (layer3): Sequential(\n",
              "    (0): BasicBlock(\n",
              "      (conv1): Conv2d(128, 256, kernel_size=(3, 3), stride=(2, 2), padding=(1, 1), bias=False)\n",
              "      (bn1): BatchNorm2d(256, eps=1e-05, momentum=0.1, affine=True, track_running_stats=True)\n",
              "      (relu): ReLU(inplace=True)\n",
              "      (conv2): Conv2d(256, 256, kernel_size=(3, 3), stride=(1, 1), padding=(1, 1), bias=False)\n",
              "      (bn2): BatchNorm2d(256, eps=1e-05, momentum=0.1, affine=True, track_running_stats=True)\n",
              "      (downsample): Sequential(\n",
              "        (0): Conv2d(128, 256, kernel_size=(1, 1), stride=(2, 2), bias=False)\n",
              "        (1): BatchNorm2d(256, eps=1e-05, momentum=0.1, affine=True, track_running_stats=True)\n",
              "      )\n",
              "    )\n",
              "    (1): BasicBlock(\n",
              "      (conv1): Conv2d(256, 256, kernel_size=(3, 3), stride=(1, 1), padding=(1, 1), bias=False)\n",
              "      (bn1): BatchNorm2d(256, eps=1e-05, momentum=0.1, affine=True, track_running_stats=True)\n",
              "      (relu): ReLU(inplace=True)\n",
              "      (conv2): Conv2d(256, 256, kernel_size=(3, 3), stride=(1, 1), padding=(1, 1), bias=False)\n",
              "      (bn2): BatchNorm2d(256, eps=1e-05, momentum=0.1, affine=True, track_running_stats=True)\n",
              "    )\n",
              "    (2): BasicBlock(\n",
              "      (conv1): Conv2d(256, 256, kernel_size=(3, 3), stride=(1, 1), padding=(1, 1), bias=False)\n",
              "      (bn1): BatchNorm2d(256, eps=1e-05, momentum=0.1, affine=True, track_running_stats=True)\n",
              "      (relu): ReLU(inplace=True)\n",
              "      (conv2): Conv2d(256, 256, kernel_size=(3, 3), stride=(1, 1), padding=(1, 1), bias=False)\n",
              "      (bn2): BatchNorm2d(256, eps=1e-05, momentum=0.1, affine=True, track_running_stats=True)\n",
              "    )\n",
              "    (3): BasicBlock(\n",
              "      (conv1): Conv2d(256, 256, kernel_size=(3, 3), stride=(1, 1), padding=(1, 1), bias=False)\n",
              "      (bn1): BatchNorm2d(256, eps=1e-05, momentum=0.1, affine=True, track_running_stats=True)\n",
              "      (relu): ReLU(inplace=True)\n",
              "      (conv2): Conv2d(256, 256, kernel_size=(3, 3), stride=(1, 1), padding=(1, 1), bias=False)\n",
              "      (bn2): BatchNorm2d(256, eps=1e-05, momentum=0.1, affine=True, track_running_stats=True)\n",
              "    )\n",
              "    (4): BasicBlock(\n",
              "      (conv1): Conv2d(256, 256, kernel_size=(3, 3), stride=(1, 1), padding=(1, 1), bias=False)\n",
              "      (bn1): BatchNorm2d(256, eps=1e-05, momentum=0.1, affine=True, track_running_stats=True)\n",
              "      (relu): ReLU(inplace=True)\n",
              "      (conv2): Conv2d(256, 256, kernel_size=(3, 3), stride=(1, 1), padding=(1, 1), bias=False)\n",
              "      (bn2): BatchNorm2d(256, eps=1e-05, momentum=0.1, affine=True, track_running_stats=True)\n",
              "    )\n",
              "    (5): BasicBlock(\n",
              "      (conv1): Conv2d(256, 256, kernel_size=(3, 3), stride=(1, 1), padding=(1, 1), bias=False)\n",
              "      (bn1): BatchNorm2d(256, eps=1e-05, momentum=0.1, affine=True, track_running_stats=True)\n",
              "      (relu): ReLU(inplace=True)\n",
              "      (conv2): Conv2d(256, 256, kernel_size=(3, 3), stride=(1, 1), padding=(1, 1), bias=False)\n",
              "      (bn2): BatchNorm2d(256, eps=1e-05, momentum=0.1, affine=True, track_running_stats=True)\n",
              "    )\n",
              "  )\n",
              "  (layer4): Sequential(\n",
              "    (0): BasicBlock(\n",
              "      (conv1): Conv2d(256, 512, kernel_size=(3, 3), stride=(2, 2), padding=(1, 1), bias=False)\n",
              "      (bn1): BatchNorm2d(512, eps=1e-05, momentum=0.1, affine=True, track_running_stats=True)\n",
              "      (relu): ReLU(inplace=True)\n",
              "      (conv2): Conv2d(512, 512, kernel_size=(3, 3), stride=(1, 1), padding=(1, 1), bias=False)\n",
              "      (bn2): BatchNorm2d(512, eps=1e-05, momentum=0.1, affine=True, track_running_stats=True)\n",
              "      (downsample): Sequential(\n",
              "        (0): Conv2d(256, 512, kernel_size=(1, 1), stride=(2, 2), bias=False)\n",
              "        (1): BatchNorm2d(512, eps=1e-05, momentum=0.1, affine=True, track_running_stats=True)\n",
              "      )\n",
              "    )\n",
              "    (1): BasicBlock(\n",
              "      (conv1): Conv2d(512, 512, kernel_size=(3, 3), stride=(1, 1), padding=(1, 1), bias=False)\n",
              "      (bn1): BatchNorm2d(512, eps=1e-05, momentum=0.1, affine=True, track_running_stats=True)\n",
              "      (relu): ReLU(inplace=True)\n",
              "      (conv2): Conv2d(512, 512, kernel_size=(3, 3), stride=(1, 1), padding=(1, 1), bias=False)\n",
              "      (bn2): BatchNorm2d(512, eps=1e-05, momentum=0.1, affine=True, track_running_stats=True)\n",
              "    )\n",
              "    (2): BasicBlock(\n",
              "      (conv1): Conv2d(512, 512, kernel_size=(3, 3), stride=(1, 1), padding=(1, 1), bias=False)\n",
              "      (bn1): BatchNorm2d(512, eps=1e-05, momentum=0.1, affine=True, track_running_stats=True)\n",
              "      (relu): ReLU(inplace=True)\n",
              "      (conv2): Conv2d(512, 512, kernel_size=(3, 3), stride=(1, 1), padding=(1, 1), bias=False)\n",
              "      (bn2): BatchNorm2d(512, eps=1e-05, momentum=0.1, affine=True, track_running_stats=True)\n",
              "    )\n",
              "  )\n",
              "  (avgpool): AdaptiveAvgPool2d(output_size=(1, 1))\n",
              "  (fc): Linear(in_features=512, out_features=200, bias=True)\n",
              ")"
            ]
          },
          "metadata": {},
          "execution_count": 20
        }
      ]
    },
    {
      "cell_type": "markdown",
      "source": [
        "**Generating the dataset for the attack model from the shadow model (member and non-member)**"
      ],
      "metadata": {
        "id": "IXOc0ay0Ohon"
      }
    },
    {
      "cell_type": "code",
      "source": [
        "import torch.nn.functional as F\n",
        "\n",
        "attack_model_dataset = []\n",
        "\n",
        "# Iterate over the test dataset (non-members)\n",
        "with torch.no_grad():\n",
        "    for images, labels in test_loader:\n",
        "        images, labels = images.to(device), labels.to(device)\n",
        "        outputs = resnet34(images)\n",
        "        probabilities = F.softmax(outputs, dim=1)\n",
        "        for i in range(len(images)):\n",
        "            attack_model_dataset.append(probabilities[i].tolist() + [0])  # 0 for non-member"
      ],
      "metadata": {
        "id": "G2Dm3zebeAwv"
      },
      "execution_count": null,
      "outputs": []
    },
    {
      "cell_type": "code",
      "source": [
        "print(attack_model_dataset[0])\n",
        "print(len(attack_model_dataset))"
      ],
      "metadata": {
        "colab": {
          "base_uri": "https://localhost:8080/"
        },
        "id": "bH1grzJueFdy",
        "outputId": "9c191e54-0e9f-46cd-d946-d344c10680a0"
      },
      "execution_count": null,
      "outputs": [
        {
          "output_type": "stream",
          "name": "stdout",
          "text": [
            "[5.845411124028033e-07, 5.587342911894666e-06, 2.217735982412705e-06, 3.556857700459659e-05, 2.1925433202341083e-07, 4.969369342688879e-07, 7.181667882605325e-08, 1.5273000826709904e-05, 1.0379835657658987e-06, 5.557891995522368e-07, 2.8046534339409845e-07, 1.4812869153502106e-07, 1.583101294500011e-08, 1.1031273672301722e-08, 6.76423184131636e-08, 1.0715821190387942e-05, 0.00016664514259900898, 2.574406607891433e-07, 1.508455170551315e-06, 5.009425763091713e-08, 2.9444516158605438e-08, 9.138507834904885e-07, 2.1317507759022192e-08, 1.8596094264466956e-07, 8.054144018387888e-07, 2.4059903580564423e-07, 9.301848876930308e-06, 4.79447521684051e-07, 6.946162756094054e-08, 3.111842943326337e-07, 1.01738510238647e-06, 3.68215467005939e-08, 8.51351899200381e-07, 2.500266873539658e-07, 9.376564236163176e-08, 3.518029600968475e-08, 0.9994786381721497, 3.2986140467983205e-06, 9.886385669233277e-06, 4.380259269964881e-06, 2.1378023973284144e-07, 4.321781943872338e-06, 1.0792584959062879e-07, 1.3773715181741863e-06, 7.709130613875459e-07, 3.6517621992970817e-06, 1.786449388418987e-07, 3.94350450960701e-07, 9.774537375051295e-07, 8.056948104240291e-07, 1.242225607711589e-06, 4.2604412442415196e-07, 8.178084875964942e-09, 5.931189051011643e-08, 7.911204846777764e-08, 7.403480140055763e-08, 2.311962958856384e-07, 1.1124395626893602e-07, 3.070202865274041e-07, 1.355626977783686e-06, 1.3949597921225632e-08, 4.75280863554417e-08, 2.2524248777244793e-07, 3.698865924661732e-08, 1.6206938369123236e-07, 8.186079014649295e-08, 9.839839094638592e-07, 1.107344587580883e-06, 3.1428410238731885e-06, 4.4340421823108045e-07, 2.232703309346107e-06, 1.1839824765047524e-07, 1.3071228011085623e-07, 1.8379671473667258e-07, 8.766251653469226e-07, 8.110720841614238e-07, 4.5688247496400436e-07, 3.5464762504489045e-07, 3.8140191804814094e-07, 3.249554083595285e-07, 1.0562627039689687e-06, 1.5603458791701996e-07, 8.153927311127518e-09, 4.080244480064721e-07, 4.254446039908544e-08, 7.155335168818056e-08, 9.201801276503829e-08, 2.3131728994485456e-06, 3.695912482726271e-07, 3.5195279224353726e-07, 1.1385314024892068e-07, 4.245863181040477e-07, 1.2579555175307178e-07, 3.4043232517433353e-06, 7.26166859976729e-08, 1.433035663467308e-07, 7.825780556913742e-08, 1.277302459357088e-07, 2.0276164036658884e-07, 1.7393941220689157e-07, 1.9345004602655536e-06, 2.44023198092691e-07, 2.197689070726483e-07, 1.0878649163714726e-06, 1.1743249928031219e-07, 4.085315907786935e-08, 6.733187660756812e-07, 7.474094587678337e-08, 8.92832616727901e-08, 6.49034959110395e-08, 7.072579677469548e-08, 8.102078368210641e-07, 5.639760729536647e-07, 1.3675407899427228e-06, 3.928353180526756e-06, 4.2225639163007145e-07, 1.4315153862298757e-07, 9.206898425873078e-07, 1.0214902346206145e-07, 8.346260216285373e-08, 1.747781368521828e-07, 2.161229986086255e-06, 1.9451301795925247e-06, 1.55462966944242e-08, 3.595131090605719e-07, 3.859846344766993e-07, 1.8903923759694408e-08, 1.6994398777114839e-07, 6.365142724007455e-08, 1.954404211801375e-07, 8.201231139537413e-06, 3.027666650723404e-07, 8.692472164284482e-08, 6.455979928432498e-07, 9.498539839114528e-07, 4.129120725337998e-07, 1.5758206473037717e-07, 5.60099181257101e-07, 7.044011596235578e-08, 2.5199033188982867e-05, 6.074947833667466e-08, 6.701189363411686e-07, 1.4182988650190964e-07, 3.3482422168162884e-07, 1.6669297338012257e-06, 9.629313808545703e-07, 2.734935264925298e-07, 1.5347815462973813e-07, 3.3354587003486813e-07, 6.365783065120922e-07, 1.1825515855434787e-07, 1.2285173056625354e-07, 7.503694519073179e-07, 9.141267582890578e-06, 8.864829226240545e-08, 1.3634165725306957e-06, 4.3832496885443106e-05, 7.901342513605414e-08, 8.588023803213218e-08, 2.055428183211916e-07, 2.420097189315129e-05, 5.683178187609883e-06, 4.689230195253913e-07, 5.985343136671872e-07, 3.9468150703214633e-07, 9.625195218632143e-08, 2.870911828267708e-07, 4.14315692864875e-08, 8.835339031065814e-06, 1.386287067361991e-07, 7.41240953061606e-08, 3.746162747120252e-06, 1.6066290982053033e-06, 2.138854711120075e-07, 1.0770987728392356e-06, 6.5018475652323104e-06, 3.01162913274311e-07, 3.749535153474426e-07, 2.6603248670653556e-07, 4.661961611418519e-06, 4.784062070939399e-07, 1.916274641189375e-06, 5.3381747022740456e-08, 2.09345375878911e-06, 1.8725125983110047e-06, 8.318418622366153e-06, 7.760233984299703e-07, 5.981611934657849e-07, 3.4266709008079488e-06, 4.291197456041118e-06, 2.985803959631994e-08, 2.5523121394144255e-07, 5.067656729806913e-07, 2.8034818910782633e-07, 3.7623368598360685e-07, 5.107646074975492e-07, 2.7478765218802437e-07, 5.55327233087155e-07, 7.001857227351138e-08, 6.988095719862031e-06, 0]\n",
            "10000\n"
          ]
        }
      ]
    },
    {
      "cell_type": "code",
      "source": [
        "# Iterate over the train dataset (members)\n",
        "with torch.no_grad():\n",
        "    for images, labels in train_loader:\n",
        "        images, labels = images.to(device), labels.to(device)\n",
        "        outputs = resnet34(images)\n",
        "        probabilities = F.softmax(outputs, dim=1)\n",
        "        for i in range(len(images)):\n",
        "            attack_model_dataset.append(probabilities[i].tolist() + [1])  # 1 for member\n"
      ],
      "metadata": {
        "id": "TnH-O8IpeG-_"
      },
      "execution_count": null,
      "outputs": []
    },
    {
      "cell_type": "code",
      "source": [
        "print(len(attack_model_dataset))"
      ],
      "metadata": {
        "colab": {
          "base_uri": "https://localhost:8080/"
        },
        "id": "uf8wEyY_eIX9",
        "outputId": "634ca3c9-6ec5-4ca0-a3c3-52b418549381"
      },
      "execution_count": null,
      "outputs": [
        {
          "output_type": "stream",
          "name": "stdout",
          "text": [
            "50000\n"
          ]
        }
      ]
    },
    {
      "cell_type": "code",
      "source": [
        "# Saving the dataset to a file\n",
        "with open('/content/drive/MyDrive/AMLM/pickle/attack_model_dataset.pkl', 'wb') as f:\n",
        "    pickle.dump(attack_model_dataset, f)"
      ],
      "metadata": {
        "id": "nAYkRQ7a7Fn0"
      },
      "execution_count": null,
      "outputs": []
    },
    {
      "cell_type": "code",
      "source": [
        "import pickle"
      ],
      "metadata": {
        "id": "RujGV5qgeKXC"
      },
      "execution_count": null,
      "outputs": []
    },
    {
      "cell_type": "code",
      "source": [
        "with open('/content/drive/MyDrive/AMLM/pickle/attack_model_dataset.pkl', 'rb') as f:\n",
        "  attack_model_dataset = pickle.load(f)"
      ],
      "metadata": {
        "id": "5EFX2CzoerSA"
      },
      "execution_count": null,
      "outputs": []
    },
    {
      "cell_type": "markdown",
      "source": [
        "**Attack Model**"
      ],
      "metadata": {
        "id": "OxtFdbt8ec8d"
      }
    },
    {
      "cell_type": "code",
      "source": [
        "import torch\n",
        "import torch.nn as nn\n",
        "import torch.optim as optim\n",
        "from torch.utils.data import DataLoader, TensorDataset\n",
        "from sklearn.model_selection import train_test_split\n",
        "\n",
        "# Convert the attack model dataset to tensors\n",
        "attack_model_dataset = torch.tensor(attack_model_dataset, dtype=torch.float32)\n",
        "X = attack_model_dataset[:, :-1]\n",
        "y = attack_model_dataset[:, -1]\n",
        "print(\"Shape of X:\", X.shape)\n",
        "print(\"Shape of X:\", y.shape)\n",
        "\n",
        "# Split the dataset into train and test sets\n",
        "X_train, X_test, y_train, y_test = train_test_split(X, y, test_size=0.3, random_state=42)\n",
        "\n",
        "X_train_tensor = torch.tensor(X_train)\n",
        "X_test_tensor = torch.tensor(X_test)\n",
        "y_train_tensor = torch.tensor(y_train, dtype=torch.float32)  # Use long tensor for classification\n",
        "y_test_tensor = torch.tensor(y_test, dtype=torch.float32)\n",
        "\n",
        "\n",
        "train_dataset = TensorDataset(X_train_tensor, y_train_tensor)\n",
        "test_dataset = TensorDataset(X_test_tensor, y_test_tensor)\n",
        "\n",
        "train_loader = DataLoader(train_dataset, batch_size=80, shuffle=True)\n",
        "test_loader = DataLoader(test_dataset, batch_size=80, shuffle=False)"
      ],
      "metadata": {
        "collapsed": true,
        "colab": {
          "base_uri": "https://localhost:8080/"
        },
        "id": "-oMv2fNveepW",
        "outputId": "1dffbee4-b91f-445c-ae8c-0db58c7e69f2"
      },
      "execution_count": null,
      "outputs": [
        {
          "output_type": "stream",
          "name": "stdout",
          "text": [
            "Shape of X: torch.Size([50000, 200])\n",
            "Shape of X: torch.Size([50000])\n"
          ]
        },
        {
          "output_type": "stream",
          "name": "stderr",
          "text": [
            "<ipython-input-8-09ad8192b606>:19: UserWarning: To copy construct from a tensor, it is recommended to use sourceTensor.clone().detach() or sourceTensor.clone().detach().requires_grad_(True), rather than torch.tensor(sourceTensor).\n",
            "  X_train_tensor = torch.tensor(X_train)\n",
            "<ipython-input-8-09ad8192b606>:20: UserWarning: To copy construct from a tensor, it is recommended to use sourceTensor.clone().detach() or sourceTensor.clone().detach().requires_grad_(True), rather than torch.tensor(sourceTensor).\n",
            "  X_test_tensor = torch.tensor(X_test)\n",
            "<ipython-input-8-09ad8192b606>:21: UserWarning: To copy construct from a tensor, it is recommended to use sourceTensor.clone().detach() or sourceTensor.clone().detach().requires_grad_(True), rather than torch.tensor(sourceTensor).\n",
            "  y_train_tensor = torch.tensor(y_train, dtype=torch.float32)  # Use long tensor for classification\n",
            "<ipython-input-8-09ad8192b606>:22: UserWarning: To copy construct from a tensor, it is recommended to use sourceTensor.clone().detach() or sourceTensor.clone().detach().requires_grad_(True), rather than torch.tensor(sourceTensor).\n",
            "  y_test_tensor = torch.tensor(y_test, dtype=torch.float32)\n"
          ]
        }
      ]
    },
    {
      "cell_type": "code",
      "source": [
        "# Defining the attack model\n",
        "class AttackModel(nn.Module):\n",
        "    def __init__(self, input_size, hidden_size, output_size):\n",
        "        super(AttackModel, self).__init__()\n",
        "        self.fc1 = nn.Linear(input_size, hidden_size)\n",
        "        self.fc2 = nn.Linear(hidden_size, output_size)\n",
        "\n",
        "    def forward(self, x):\n",
        "        x = torch.relu(self.fc1(x))\n",
        "        x = torch.sigmoid(self.fc2(x))\n",
        "        return x\n"
      ],
      "metadata": {
        "id": "4oQWmsEUefZ-"
      },
      "execution_count": null,
      "outputs": []
    },
    {
      "cell_type": "code",
      "source": [
        "input_size = X_train.shape[1]\n",
        "hidden_size = 64\n",
        "output_size = 1\n",
        "attack_model = AttackModel(input_size, hidden_size, output_size)\n",
        "\n",
        "criterion = nn.BCELoss()\n",
        "optimizer = optim.Adam(attack_model.parameters(), lr=0.001, weight_decay=1e-4)\n"
      ],
      "metadata": {
        "id": "1kVfFRtpehMm"
      },
      "execution_count": null,
      "outputs": []
    },
    {
      "cell_type": "code",
      "source": [
        "# Training the attack model\n",
        "num_epochs = 50\n",
        "device = torch.device(\"cuda\" if torch.cuda.is_available() else \"cpu\")\n",
        "attack_model.to(device)\n",
        "\n",
        "for epoch in range(num_epochs):\n",
        "    attack_model.train()\n",
        "    running_loss = 0.0\n",
        "    for inputs, labels in train_loader:\n",
        "        inputs, labels = inputs.to(device), labels.to(device)\n",
        "\n",
        "        optimizer.zero_grad()\n",
        "        outputs = attack_model(inputs)\n",
        "        loss = criterion(outputs.squeeze(), labels)\n",
        "        loss.backward()\n",
        "        optimizer.step()\n",
        "\n",
        "        running_loss += loss.item()\n",
        "\n",
        "    print(f\"Epoch {epoch+1}, Loss: {running_loss/len(train_loader)}\")"
      ],
      "metadata": {
        "colab": {
          "base_uri": "https://localhost:8080/"
        },
        "id": "ko2HAvhzeiTi",
        "outputId": "28709e23-198c-457c-cce4-224adcc15e91"
      },
      "execution_count": null,
      "outputs": [
        {
          "output_type": "stream",
          "name": "stdout",
          "text": [
            "Epoch 1, Loss: 0.5291640939505677\n",
            "Epoch 2, Loss: 0.4920820309419066\n",
            "Epoch 3, Loss: 0.4899778845783782\n",
            "Epoch 4, Loss: 0.48758026283897765\n",
            "Epoch 5, Loss: 0.4839762712586416\n",
            "Epoch 6, Loss: 0.47971525393664566\n",
            "Epoch 7, Loss: 0.47458363797294495\n",
            "Epoch 8, Loss: 0.469618632981222\n",
            "Epoch 9, Loss: 0.4642420470986736\n",
            "Epoch 10, Loss: 0.45885623814580645\n",
            "Epoch 11, Loss: 0.4527015281866675\n",
            "Epoch 12, Loss: 0.4460673395493259\n",
            "Epoch 13, Loss: 0.4402377346879271\n",
            "Epoch 14, Loss: 0.43619938358052135\n",
            "Epoch 15, Loss: 0.43180057038999586\n",
            "Epoch 16, Loss: 0.4279899174628192\n",
            "Epoch 17, Loss: 0.4245422841751412\n",
            "Epoch 18, Loss: 0.42151218686746134\n",
            "Epoch 19, Loss: 0.41800048610527224\n",
            "Epoch 20, Loss: 0.41553761184079463\n",
            "Epoch 21, Loss: 0.41312997471796326\n",
            "Epoch 22, Loss: 0.41116925114638186\n",
            "Epoch 23, Loss: 0.4096364344908222\n",
            "Epoch 24, Loss: 0.4081181907966801\n",
            "Epoch 25, Loss: 0.40676968633175986\n",
            "Epoch 26, Loss: 0.4054158771214964\n",
            "Epoch 27, Loss: 0.40455924610705135\n",
            "Epoch 28, Loss: 0.40333312824708684\n",
            "Epoch 29, Loss: 0.40273426680668306\n",
            "Epoch 30, Loss: 0.40178258264581906\n",
            "Epoch 31, Loss: 0.4009990460116025\n",
            "Epoch 32, Loss: 0.4003154896029599\n",
            "Epoch 33, Loss: 0.39969851899909103\n",
            "Epoch 34, Loss: 0.3992385057621895\n",
            "Epoch 35, Loss: 0.39873637364471337\n",
            "Epoch 36, Loss: 0.39828061108311563\n",
            "Epoch 37, Loss: 0.3972512891507584\n",
            "Epoch 38, Loss: 0.39742162320167507\n",
            "Epoch 39, Loss: 0.39672270281129773\n",
            "Epoch 40, Loss: 0.39656659916519577\n",
            "Epoch 41, Loss: 0.3963528664689086\n",
            "Epoch 42, Loss: 0.3958178545990491\n",
            "Epoch 43, Loss: 0.3952566038255822\n",
            "Epoch 44, Loss: 0.39506734315663167\n",
            "Epoch 45, Loss: 0.3948077445841271\n",
            "Epoch 46, Loss: 0.394703756762694\n",
            "Epoch 47, Loss: 0.394445900469338\n",
            "Epoch 48, Loss: 0.39427312310427837\n",
            "Epoch 49, Loss: 0.39368638338427564\n",
            "Epoch 50, Loss: 0.39359435588801833\n"
          ]
        }
      ]
    },
    {
      "cell_type": "code",
      "source": [
        "# Evaluating the attack model\n",
        "attack_model.eval()\n",
        "correct = 0\n",
        "total = 0\n",
        "with torch.no_grad():\n",
        "    for tensors, labels in test_loader:\n",
        "        tensors, labels = tensors.to(device), labels.to(device)\n",
        "        outputs = attack_model(tensors).squeeze()\n",
        "        predicted = (outputs > 0.5).float()\n",
        "       # print(predicted)\n",
        "        total += labels.size(0)\n",
        "        correct += (predicted == labels).sum().item()\n",
        "\n",
        "print(f\"Test Accuracy: {100 * correct / total}%\")\n"
      ],
      "metadata": {
        "colab": {
          "base_uri": "https://localhost:8080/"
        },
        "id": "DCFnJ90p7jQk",
        "outputId": "fbfd30de-902a-485c-d212-c4bca43893b0"
      },
      "execution_count": null,
      "outputs": [
        {
          "output_type": "stream",
          "name": "stdout",
          "text": [
            "Test Accuracy: 84.21333333333334%\n"
          ]
        }
      ]
    },
    {
      "cell_type": "code",
      "source": [
        "# Saving the attack model\n",
        "torch.save(attack_model.state_dict(), '/content/drive/MyDrive/AMLM/pickle/attack_model.pth')\n"
      ],
      "metadata": {
        "id": "OHyUaKRW7nMx"
      },
      "execution_count": null,
      "outputs": []
    },
    {
      "cell_type": "code",
      "source": [
        "# attack_model= torch.load(\"/content/drive/MyDrive/AMLM/pickle/attack_model.pth\", map_location=torch.device('cpu'))"
      ],
      "metadata": {
        "id": "99JxsLK27p52"
      },
      "execution_count": null,
      "outputs": []
    },
    {
      "cell_type": "code",
      "source": [
        "# from google.colab import files\n",
        "# files.download('/content/drive/MyDrive/AMLM/pickle/attack_model.pth')"
      ],
      "metadata": {
        "colab": {
          "base_uri": "https://localhost:8080/",
          "height": 17
        },
        "id": "RH-u9Smg7rh7",
        "outputId": "77128056-e088-4b2d-895d-e9f02e179a52"
      },
      "execution_count": null,
      "outputs": [
        {
          "output_type": "display_data",
          "data": {
            "text/plain": [
              "<IPython.core.display.Javascript object>"
            ],
            "application/javascript": [
              "\n",
              "    async function download(id, filename, size) {\n",
              "      if (!google.colab.kernel.accessAllowed) {\n",
              "        return;\n",
              "      }\n",
              "      const div = document.createElement('div');\n",
              "      const label = document.createElement('label');\n",
              "      label.textContent = `Downloading \"${filename}\": `;\n",
              "      div.appendChild(label);\n",
              "      const progress = document.createElement('progress');\n",
              "      progress.max = size;\n",
              "      div.appendChild(progress);\n",
              "      document.body.appendChild(div);\n",
              "\n",
              "      const buffers = [];\n",
              "      let downloaded = 0;\n",
              "\n",
              "      const channel = await google.colab.kernel.comms.open(id);\n",
              "      // Send a message to notify the kernel that we're ready.\n",
              "      channel.send({})\n",
              "\n",
              "      for await (const message of channel.messages) {\n",
              "        // Send a message to notify the kernel that we're ready.\n",
              "        channel.send({})\n",
              "        if (message.buffers) {\n",
              "          for (const buffer of message.buffers) {\n",
              "            buffers.push(buffer);\n",
              "            downloaded += buffer.byteLength;\n",
              "            progress.value = downloaded;\n",
              "          }\n",
              "        }\n",
              "      }\n",
              "      const blob = new Blob(buffers, {type: 'application/binary'});\n",
              "      const a = document.createElement('a');\n",
              "      a.href = window.URL.createObjectURL(blob);\n",
              "      a.download = filename;\n",
              "      div.appendChild(a);\n",
              "      a.click();\n",
              "      div.remove();\n",
              "    }\n",
              "  "
            ]
          },
          "metadata": {}
        },
        {
          "output_type": "display_data",
          "data": {
            "text/plain": [
              "<IPython.core.display.Javascript object>"
            ],
            "application/javascript": [
              "download(\"download_3d39f91e-96f4-4606-b0d2-25be49e4ffb0\", \"attack_model.pth\", 53880)"
            ]
          },
          "metadata": {}
        }
      ]
    },
    {
      "cell_type": "markdown",
      "source": [
        "**Loading the target model and eval.p  Getting the Confidence Score and using it to evaluate the attack model**"
      ],
      "metadata": {
        "id": "mn4qD5UV8cOl"
      }
    },
    {
      "cell_type": "code",
      "source": [
        "import torch\n",
        "import torchvision.models as models\n",
        "\n",
        "MODEL_PATH = '/content/drive/MyDrive/AMLM/models/resnet34_tinyimagenet.pth'\n",
        "# Change the MODEL_PATH to your local model path\n",
        "\n",
        "device = torch.device(\"cuda:0\" if torch.cuda.is_available() else \"cpu\")\n",
        "\n",
        "num_classes = 200  # Change num_classes to 200 for the Tiny ImageNet dataset\n",
        "target_model = models.resnet34(num_classes=num_classes).to(device)\n",
        "\n",
        "# Load the state dictionary\n",
        "state_dict = torch.load(MODEL_PATH, map_location=device)\n",
        "target_model.load_state_dict(state_dict['net'])\n",
        "\n",
        "# Test accuracy\n",
        "acc = state_dict['acc']\n",
        "# Training epoch (start from 0)\n",
        "epoch = state_dict['epoch']\n",
        "\n",
        "print(f'Test Accuracy: {acc}')\n",
        "print(f'Training Epoch: {epoch}')\n"
      ],
      "metadata": {
        "colab": {
          "base_uri": "https://localhost:8080/"
        },
        "id": "OM0swnzn8X4p",
        "outputId": "3e99158d-256f-4542-d869-f888302b4707"
      },
      "execution_count": null,
      "outputs": [
        {
          "output_type": "stream",
          "name": "stdout",
          "text": [
            "Test Accuracy: 19.652\n",
            "Training Epoch: 199\n"
          ]
        }
      ]
    },
    {
      "cell_type": "code",
      "source": [
        "import pickle\n",
        "import torch\n",
        "\n",
        "DATA_PATH = '/content/drive/MyDrive/AMLM/pickle/tinyimagenet/resnet34/eval.p'\n",
        "# Change the DATA_PATH to your local pickle file path\n",
        "\n",
        "device=torch.device(\"cuda:0\" if torch.cuda.is_available() else \"cpu\")\n",
        "\n",
        "with open(DATA_PATH, \"rb\") as f:\n",
        "    eval_dataset = pickle.load(f)\n",
        "\n",
        "dataloader = torch.utils.data.DataLoader(\n",
        "    eval_dataset, batch_size=64, shuffle=True, num_workers=2)\n",
        "\n",
        "for batch_idx, (img, label, membership) in enumerate(dataloader):\n",
        "    img = img.to(device)"
      ],
      "metadata": {
        "id": "ecPxLi_g9SB5"
      },
      "execution_count": null,
      "outputs": []
    },
    {
      "cell_type": "code",
      "source": [
        "import pickle\n",
        "import torch\n",
        "import numpy as np\n",
        "from PIL import Image"
      ],
      "metadata": {
        "id": "Msied_gv9a1L"
      },
      "execution_count": null,
      "outputs": []
    },
    {
      "cell_type": "code",
      "source": [
        "confidence_scores = []\n",
        "target_model.eval()\n",
        "correct = 0\n",
        "total = 0\n",
        "correct_predictions = 0\n",
        "total_predictions = 0\n",
        "\n",
        "with torch.no_grad():\n",
        "    for img, label, membership in dataloader:\n",
        "        img = img.to(device)\n",
        "        labels = label.to(device)\n",
        "        outputs = target_model(img)\n",
        "        probabilities = torch.nn.functional.softmax(outputs, dim=1)\n",
        "        for i in range(len(img)):\n",
        "            confidence_scores.append(probabilities[i].tolist() + [membership[i]])\n",
        "            _, predicted = torch.max(outputs, 1)\n",
        "            total_predictions += labels.size(0)\n",
        "            correct_predictions += (predicted == labels).sum().item()\n",
        "\n",
        "    accuracy = correct_predictions / total_predictions\n",
        "    print(\"Accuracy:\",accuracy)\n"
      ],
      "metadata": {
        "id": "AVt3zP7v9cP4",
        "colab": {
          "base_uri": "https://localhost:8080/"
        },
        "outputId": "0a1d3417-5f0c-40ec-dfbd-c87c98d1cef3"
      },
      "execution_count": null,
      "outputs": [
        {
          "output_type": "stream",
          "name": "stdout",
          "text": [
            "Accuracy: 0.5531088082901554\n"
          ]
        }
      ]
    },
    {
      "cell_type": "code",
      "source": [
        "print(confidence_scores[0])"
      ],
      "metadata": {
        "colab": {
          "base_uri": "https://localhost:8080/"
        },
        "id": "5qcKpqky9emZ",
        "outputId": "e7447b11-dfff-4d7b-ed51-3516f5fb704c"
      },
      "execution_count": null,
      "outputs": [
        {
          "output_type": "stream",
          "name": "stdout",
          "text": [
            "[4.20248179580085e-05, 2.202076393587049e-05, 1.3912255099057802e-06, 4.313547378842486e-06, 3.372127366674249e-06, 7.834866119083017e-05, 1.2336158761172555e-06, 1.5515395716647618e-05, 1.1035795068892185e-05, 1.92373354366282e-05, 1.6900634136618464e-06, 5.3807332733413205e-05, 1.4706936781294644e-05, 1.5372324924101122e-05, 9.998594578064512e-06, 2.3132149635785026e-06, 1.2362027518975083e-05, 1.5740157323307358e-05, 7.0876653808227275e-06, 2.846576080628438e-06, 4.78006768389605e-05, 7.577546057291329e-06, 7.1176928031491116e-06, 5.705901003238978e-06, 0.9961861968040466, 5.02266593684908e-05, 4.450123742572032e-05, 3.3763670217012987e-05, 4.8980506107909605e-05, 5.150815559318289e-05, 1.5150028048083186e-05, 9.869487257674336e-06, 8.727635758987162e-06, 2.0890556697850116e-05, 1.657484426687006e-05, 1.875170255516423e-06, 1.0862069757422432e-05, 2.3975351268745726e-06, 3.246859705541283e-05, 2.5392691895831376e-06, 3.4819418033293914e-06, 8.534350854461081e-06, 0.00021251279395073652, 1.9538574633770622e-06, 3.075136419283808e-06, 1.4463015759247355e-05, 1.532368696643971e-05, 6.281650712480769e-05, 2.266566298203543e-06, 9.496870006842073e-06, 4.193123913864838e-06, 1.9700071788975038e-05, 9.537646837998182e-05, 6.7270302679389715e-06, 4.589356649375986e-06, 3.7775507735204883e-06, 2.870126991183497e-05, 4.524475116340909e-06, 3.23870153806638e-05, 1.703088855720125e-05, 5.124125436850591e-06, 1.4107589549894328e-06, 4.662689025280997e-05, 3.4520062399678864e-06, 5.385787517298013e-06, 1.9850408534693997e-06, 6.289068096521078e-06, 6.32186493021436e-06, 6.847496115369722e-05, 1.4744600775884464e-05, 2.371778009546688e-06, 3.5589903291111114e-06, 5.7749502957449295e-06, 4.020440246677026e-05, 9.762236913957167e-06, 4.827889824809972e-06, 7.917071343399584e-06, 1.3586654858954716e-05, 1.4883348740113433e-05, 2.08752608159557e-05, 4.532391358225141e-06, 2.90337038677535e-06, 3.5293417113280157e-06, 2.778579801088199e-05, 6.188102997839451e-05, 1.1346835890435614e-05, 8.202030585380271e-06, 3.9815568015910685e-06, 2.5304394512204453e-05, 7.938278031360824e-06, 0.0001360519090667367, 1.723271270748228e-05, 6.064118679205421e-06, 5.3761605158797465e-06, 6.45544241706375e-06, 9.313193913840223e-06, 2.7352134566172026e-06, 3.987443051300943e-06, 1.0079888852487784e-05, 2.7605319701251574e-05, 3.502777644825983e-06, 4.44156603407464e-06, 7.728208402113523e-06, 6.7628461692947894e-06, 2.6522961888986174e-06, 4.418190201249672e-06, 1.1559636732272338e-05, 4.413090664456831e-06, 2.511239699742873e-06, 7.181604451034218e-05, 2.020122337853536e-05, 3.604433459258871e-06, 1.4469334018940572e-05, 3.1449314974452136e-06, 3.3494179660920054e-05, 2.1894627479923656e-06, 7.5848852247872856e-06, 1.4366593859449495e-05, 5.157187842996791e-06, 5.6816993492248e-06, 0.00021436346287373453, 2.6107577468792442e-06, 2.837085276041762e-06, 2.7991067327093333e-05, 4.980844551027985e-06, 1.2659384992730338e-05, 3.1803723686607555e-05, 2.479146360201412e-06, 2.749663508438971e-06, 2.0867497369181365e-05, 2.422050602035597e-05, 4.117147909710184e-05, 1.815924042603001e-05, 1.8287402099304018e-06, 1.346377030131407e-05, 1.4392318917089142e-05, 2.5597450076020323e-05, 1.8023234588326886e-05, 5.505568879016209e-06, 4.447580067790113e-06, 2.452975650157896e-06, 1.7937651136890054e-05, 2.2007034203852527e-05, 8.226725913118571e-05, 9.948312799679115e-05, 4.4110588532930706e-06, 3.061051074837451e-06, 4.0352001633436885e-06, 1.22699548228411e-05, 0.00011929211905226111, 3.0116962079773657e-05, 3.210212298654369e-06, 7.2985294536920264e-06, 4.67801328341011e-06, 1.7164838936878368e-05, 1.7691294488031417e-05, 2.9753600756521337e-05, 0.00011245760106248781, 1.581222386448644e-05, 3.704700429807417e-05, 1.3291680261318106e-05, 1.5581810657749884e-05, 4.099061698070727e-06, 3.402559377718717e-05, 1.0513220331631601e-05, 2.5486363028903725e-06, 2.338327476536506e-06, 1.3771950762020424e-05, 6.988436325627845e-06, 2.592410510260379e-06, 9.174824299407192e-06, 9.94263609754853e-06, 3.19276341542718e-06, 2.909906697823317e-06, 1.4188104614731856e-05, 5.666709967044881e-06, 7.655653462279588e-06, 1.4473653209279291e-05, 6.081226729293121e-06, 6.9034563239256386e-06, 6.2622852965432685e-06, 3.0162720577209257e-05, 8.428651199210435e-06, 8.968727343017235e-06, 2.2042762793716975e-05, 1.9881126718246378e-05, 5.022502955398522e-05, 3.987576292274753e-06, 3.377260782144731e-06, 8.56241604196839e-05, 3.055220986425411e-06, 1.1079780051659327e-05, 5.022884124628035e-06, 2.569936441432219e-06, 1.997427716560196e-06, 3.96707082472858e-06, 6.7542346187110525e-06, 2.3371726456389297e-06, 1.4281924450187944e-05, 5.619727289740695e-06, tensor(1)]\n"
          ]
        }
      ]
    },
    {
      "cell_type": "code",
      "source": [
        "class CustomDatasetConf(Dataset):\n",
        "    def __init__(self, data):\n",
        "        self.data = data\n",
        "\n",
        "    def __len__(self):\n",
        "        return len(self.data)\n",
        "\n",
        "    def __getitem__(self, idx):\n",
        "        tensor = self.data[idx][:-1]\n",
        "        label = self.data[idx][-1].item()\n",
        "        return torch.tensor(tensor), label"
      ],
      "metadata": {
        "id": "ccQk1rMs9eZ5"
      },
      "execution_count": null,
      "outputs": []
    },
    {
      "cell_type": "code",
      "source": [
        "confidence_file_path = '/content/drive/MyDrive/AMLM/pickle/confidence_score.pkl'\n",
        "with open(confidence_file_path, 'wb') as f:\n",
        "    pickle.dump(confidence_scores, f)"
      ],
      "metadata": {
        "id": "VmAbXDQF9i7Z"
      },
      "execution_count": null,
      "outputs": []
    },
    {
      "cell_type": "code",
      "source": [
        "with open('/content/drive/MyDrive/AMLM/pickle/confidence_score.pkl', 'rb') as f:\n",
        "  confidence_scores = pickle.load(f)"
      ],
      "metadata": {
        "id": "U6HoA3gW90Nj"
      },
      "execution_count": null,
      "outputs": []
    },
    {
      "cell_type": "code",
      "source": [
        "print(confidence_scores[0])"
      ],
      "metadata": {
        "colab": {
          "base_uri": "https://localhost:8080/"
        },
        "id": "rZReIsM993C4",
        "outputId": "33420a80-cd7f-46a4-eef0-09a13cd71fe0"
      },
      "execution_count": null,
      "outputs": [
        {
          "output_type": "stream",
          "name": "stdout",
          "text": [
            "[2.7119067453895696e-06, 8.747894071348128e-07, 5.7489796745358035e-06, 1.2092292536181048e-06, 2.6808553229784593e-05, 2.059331791315344e-06, 1.1050400644307956e-05, 4.6560166993003804e-06, 5.540515303437132e-06, 6.59618626741576e-06, 3.3318774512736127e-06, 4.678958248405252e-06, 9.169367558570229e-07, 6.952916464797454e-06, 2.056032099062577e-05, 8.630548222754442e-07, 2.9712862215092173e-06, 3.170624722770299e-06, 1.399035954818828e-05, 6.267458047659602e-06, 1.7104334801842924e-06, 1.615134533494711e-05, 2.163454837500467e-06, 7.141676178434864e-05, 7.760426115055452e-07, 9.826353561948054e-07, 8.277523875221959e-07, 4.85791906612576e-06, 9.64948071668914e-07, 1.0344783731852658e-06, 1.97544295588159e-06, 3.51494441019895e-06, 5.5340624385280535e-06, 5.843880444444949e-06, 3.5751418181462213e-06, 2.9997279852977954e-05, 1.2283820751690655e-06, 4.3064724195573945e-06, 2.071921471724636e-06, 5.1687970881175715e-06, 4.312587861932116e-06, 2.355925062147435e-06, 1.6651897567498963e-06, 1.758676944518811e-06, 4.639748567569768e-06, 1.1364447800588096e-06, 2.3755319489282556e-05, 3.0465353120234795e-06, 4.125883151573362e-06, 1.1270928553130943e-05, 6.568844401044771e-05, 2.6867113774642348e-05, 5.651322680932935e-06, 6.77621483191615e-06, 8.887043918548443e-07, 5.4597235248365905e-06, 1.1190067198185716e-05, 5.86697069593356e-06, 1.006420461635571e-06, 2.1371572529460536e-06, 9.336628750133968e-07, 1.0686301266105147e-06, 8.887442390914657e-07, 1.4875796296109911e-05, 1.3047178072156385e-05, 5.115155090607004e-06, 2.239154673588928e-05, 1.962748456207919e-06, 2.5770873435249086e-06, 2.659937990756589e-06, 1.9077772321907105e-06, 1.0008495337388013e-05, 1.9372992028365843e-06, 1.116350972552027e-06, 6.018045496603008e-06, 1.0196137736784294e-05, 1.8866822983909515e-06, 1.6656647403578972e-06, 2.557627794885775e-06, 2.3694083211012185e-06, 4.3471623030200135e-06, 7.922561053419486e-06, 8.921137464312778e-07, 3.666260909085395e-06, 1.5672301742597483e-05, 5.252683422440896e-06, 6.861624569864944e-06, 1.0489477517694468e-06, 1.246724059456028e-05, 3.3337719287374057e-06, 1.6087293488453724e-06, 1.2713499927485827e-05, 3.5829696571454406e-05, 7.025786317171878e-07, 1.1309077308396809e-05, 2.1372561604948714e-05, 2.081214370264206e-05, 1.3268885368233896e-06, 6.351768888634979e-07, 8.645080242786207e-07, 2.091400347126182e-06, 1.0988953363266774e-05, 6.739415312040364e-06, 3.37518008564075e-06, 5.325598976924084e-06, 3.0945320759201422e-06, 2.9027927666902542e-05, 5.19124978382024e-06, 1.4522603350997088e-06, 9.74373961071251e-07, 3.141210981993936e-06, 6.522783678519772e-06, 7.197091349553375e-07, 4.815786269318778e-06, 4.677289325627498e-06, 3.830782134173205e-06, 3.5546649996831547e-06, 2.065296712316922e-06, 4.9686816055327654e-05, 1.493694639975729e-06, 1.1341700201228377e-06, 1.3907423408454633e-06, 2.8145468604634516e-06, 1.5906468888715608e-06, 3.2483096674695844e-06, 4.603215984388953e-06, 1.1544149174369522e-06, 2.098358891089447e-06, 1.38793075166177e-06, 2.7671273983287392e-06, 9.586037776898593e-07, 8.882239512786327e-07, 7.81752351031173e-06, 5.080152732261922e-06, 2.8133340492786374e-06, 6.441901518883242e-07, 2.6361165055277525e-06, 2.3192826574813807e-06, 1.9705339582287706e-06, 1.168860308098374e-05, 8.474627293253434e-07, 4.622242158802692e-06, 9.110357837016636e-07, 2.8757333438989008e-06, 2.3092272840585792e-06, 1.2959176274307538e-06, 3.822654434770811e-06, 1.2746562561005703e-06, 7.93615708971629e-06, 1.1283248113613809e-06, 1.6922838312893873e-06, 9.77132117441215e-07, 1.1607300621108152e-05, 2.0516688437055564e-06, 5.33456914126873e-05, 2.6994719064532546e-06, 6.58306760215055e-07, 2.422805664537009e-05, 5.468237759487238e-06, 2.846765482900082e-06, 5.407510798249859e-06, 4.245346644893289e-06, 1.2163349310867488e-05, 7.428041499224491e-06, 1.569735468365252e-05, 6.280010893533472e-06, 1.7164215023512952e-05, 8.466782901450642e-07, 1.7200920410687104e-05, 1.314375936090073e-06, 4.684197483584285e-05, 9.36280321184313e-06, 1.527339918538928e-06, 4.1379767026228365e-06, 2.5363860913785174e-06, 4.662919366182905e-07, 4.651737526728539e-06, 5.767372499576595e-07, 4.242513568897266e-06, 6.5394451667089015e-06, 9.615831686460297e-07, 5.202616080168809e-07, 1.779058038664516e-06, 3.573512458387995e-06, 1.3252583812572993e-06, 1.8962209651363082e-06, 1.1603797247516923e-06, 3.34024798576138e-06, 3.1412650969286915e-06, 9.22440904105315e-06, 4.4061448534193914e-07, 2.54345900430053e-06, 4.190640538581647e-06, 8.205481663026148e-07, 0.9982030391693115, 3.925849523511715e-05, 0.00024018969270400703, 1.9344164684298448e-05, 0.0001935354812303558, 2.319656687177485e-06, tensor(1)]\n"
          ]
        }
      ]
    },
    {
      "cell_type": "code",
      "source": [
        "conf_Score=CustomDatasetConf(confidence_scores)"
      ],
      "metadata": {
        "id": "zqitz45R96yt"
      },
      "execution_count": null,
      "outputs": []
    },
    {
      "cell_type": "code",
      "source": [
        "# Accessing the dataset\n",
        "example_confidence_scores, example_membership = conf_Score[0]\n",
        "print(\"Example confidence scores:\", example_confidence_scores)\n",
        "print(\"Example membership:\", example_membership)"
      ],
      "metadata": {
        "collapsed": true,
        "colab": {
          "base_uri": "https://localhost:8080/"
        },
        "id": "7A1WCdR398lW",
        "outputId": "3d3c180e-1054-4c7f-a7c2-5b1b43d342dd"
      },
      "execution_count": null,
      "outputs": [
        {
          "output_type": "stream",
          "name": "stdout",
          "text": [
            "Example confidence scores: tensor([4.2025e-05, 2.2021e-05, 1.3912e-06, 4.3135e-06, 3.3721e-06, 7.8349e-05,\n",
            "        1.2336e-06, 1.5515e-05, 1.1036e-05, 1.9237e-05, 1.6901e-06, 5.3807e-05,\n",
            "        1.4707e-05, 1.5372e-05, 9.9986e-06, 2.3132e-06, 1.2362e-05, 1.5740e-05,\n",
            "        7.0877e-06, 2.8466e-06, 4.7801e-05, 7.5775e-06, 7.1177e-06, 5.7059e-06,\n",
            "        9.9619e-01, 5.0227e-05, 4.4501e-05, 3.3764e-05, 4.8981e-05, 5.1508e-05,\n",
            "        1.5150e-05, 9.8695e-06, 8.7276e-06, 2.0891e-05, 1.6575e-05, 1.8752e-06,\n",
            "        1.0862e-05, 2.3975e-06, 3.2469e-05, 2.5393e-06, 3.4819e-06, 8.5344e-06,\n",
            "        2.1251e-04, 1.9539e-06, 3.0751e-06, 1.4463e-05, 1.5324e-05, 6.2817e-05,\n",
            "        2.2666e-06, 9.4969e-06, 4.1931e-06, 1.9700e-05, 9.5376e-05, 6.7270e-06,\n",
            "        4.5894e-06, 3.7776e-06, 2.8701e-05, 4.5245e-06, 3.2387e-05, 1.7031e-05,\n",
            "        5.1241e-06, 1.4108e-06, 4.6627e-05, 3.4520e-06, 5.3858e-06, 1.9850e-06,\n",
            "        6.2891e-06, 6.3219e-06, 6.8475e-05, 1.4745e-05, 2.3718e-06, 3.5590e-06,\n",
            "        5.7750e-06, 4.0204e-05, 9.7622e-06, 4.8279e-06, 7.9171e-06, 1.3587e-05,\n",
            "        1.4883e-05, 2.0875e-05, 4.5324e-06, 2.9034e-06, 3.5293e-06, 2.7786e-05,\n",
            "        6.1881e-05, 1.1347e-05, 8.2020e-06, 3.9816e-06, 2.5304e-05, 7.9383e-06,\n",
            "        1.3605e-04, 1.7233e-05, 6.0641e-06, 5.3762e-06, 6.4554e-06, 9.3132e-06,\n",
            "        2.7352e-06, 3.9874e-06, 1.0080e-05, 2.7605e-05, 3.5028e-06, 4.4416e-06,\n",
            "        7.7282e-06, 6.7628e-06, 2.6523e-06, 4.4182e-06, 1.1560e-05, 4.4131e-06,\n",
            "        2.5112e-06, 7.1816e-05, 2.0201e-05, 3.6044e-06, 1.4469e-05, 3.1449e-06,\n",
            "        3.3494e-05, 2.1895e-06, 7.5849e-06, 1.4367e-05, 5.1572e-06, 5.6817e-06,\n",
            "        2.1436e-04, 2.6108e-06, 2.8371e-06, 2.7991e-05, 4.9808e-06, 1.2659e-05,\n",
            "        3.1804e-05, 2.4791e-06, 2.7497e-06, 2.0867e-05, 2.4221e-05, 4.1171e-05,\n",
            "        1.8159e-05, 1.8287e-06, 1.3464e-05, 1.4392e-05, 2.5597e-05, 1.8023e-05,\n",
            "        5.5056e-06, 4.4476e-06, 2.4530e-06, 1.7938e-05, 2.2007e-05, 8.2267e-05,\n",
            "        9.9483e-05, 4.4111e-06, 3.0611e-06, 4.0352e-06, 1.2270e-05, 1.1929e-04,\n",
            "        3.0117e-05, 3.2102e-06, 7.2985e-06, 4.6780e-06, 1.7165e-05, 1.7691e-05,\n",
            "        2.9754e-05, 1.1246e-04, 1.5812e-05, 3.7047e-05, 1.3292e-05, 1.5582e-05,\n",
            "        4.0991e-06, 3.4026e-05, 1.0513e-05, 2.5486e-06, 2.3383e-06, 1.3772e-05,\n",
            "        6.9884e-06, 2.5924e-06, 9.1748e-06, 9.9426e-06, 3.1928e-06, 2.9099e-06,\n",
            "        1.4188e-05, 5.6667e-06, 7.6557e-06, 1.4474e-05, 6.0812e-06, 6.9035e-06,\n",
            "        6.2623e-06, 3.0163e-05, 8.4287e-06, 8.9687e-06, 2.2043e-05, 1.9881e-05,\n",
            "        5.0225e-05, 3.9876e-06, 3.3773e-06, 8.5624e-05, 3.0552e-06, 1.1080e-05,\n",
            "        5.0229e-06, 2.5699e-06, 1.9974e-06, 3.9671e-06, 6.7542e-06, 2.3372e-06,\n",
            "        1.4282e-05, 5.6197e-06])\n",
            "Example membership: 1\n"
          ]
        }
      ]
    },
    {
      "cell_type": "code",
      "source": [
        "print(len(conf_Score))"
      ],
      "metadata": {
        "colab": {
          "base_uri": "https://localhost:8080/"
        },
        "id": "hhrA7Xfg9_Bf",
        "outputId": "c247b22b-0215-448b-8be8-e89b2f255f2d"
      },
      "execution_count": null,
      "outputs": [
        {
          "output_type": "stream",
          "name": "stdout",
          "text": [
            "200\n"
          ]
        }
      ]
    },
    {
      "cell_type": "code",
      "source": [
        "# Creating a DataLoader for the confidence scores\n",
        "confidence_scores_loader = DataLoader(conf_Score, batch_size=64, shuffle=False)"
      ],
      "metadata": {
        "id": "aNgC3PAS-Ake"
      },
      "execution_count": null,
      "outputs": []
    },
    {
      "cell_type": "code",
      "source": [
        "print(len(confidence_scores))"
      ],
      "metadata": {
        "colab": {
          "base_uri": "https://localhost:8080/"
        },
        "id": "Sf9qInRc-B3W",
        "outputId": "b1ffe541-e967-4137-a071-d00204edd4a8"
      },
      "execution_count": null,
      "outputs": [
        {
          "output_type": "stream",
          "name": "stdout",
          "text": [
            "200\n"
          ]
        }
      ]
    },
    {
      "cell_type": "code",
      "source": [
        "# Evaluating the attack model using the confidence score generated by the target model and eval.p\n",
        "attack_model.eval()\n",
        "correct = 0\n",
        "total = 0\n",
        "with torch.no_grad():\n",
        "    for tensors, label in confidence_scores_loader:\n",
        "        tensors, label = tensors.to(device), label.to(device).float()\n",
        "        outputs = attack_model(tensors).squeeze()\n",
        "        predicted = (outputs > 0.5).float()\n",
        "        total += tensors.size(0)\n",
        "        correct += (predicted==label).sum().item()\n",
        "\n",
        "print(f\"Test Accuracy: {100 * correct / total}%\")"
      ],
      "metadata": {
        "colab": {
          "base_uri": "https://localhost:8080/"
        },
        "id": "EShY61qR-DZu",
        "outputId": "9eb9a419-8b9b-47e9-ec73-b428be72fd67"
      },
      "execution_count": null,
      "outputs": [
        {
          "output_type": "stream",
          "name": "stdout",
          "text": [
            "Test Accuracy: 93.5%\n"
          ]
        }
      ]
    },
    {
      "cell_type": "code",
      "source": [
        "# Evaluate the attack model\n",
        "attack_model.eval()\n",
        "final_results = []\n",
        "correct = 0\n",
        "total = 0\n",
        "\n",
        "with torch.no_grad():\n",
        "    for tensors, label in confidence_scores_loader:\n",
        "        tensors, label = tensors.to(device), label.to(device).float()\n",
        "        outputs = attack_model(tensors).squeeze()\n",
        "        predicted = (outputs > 0.5).float()\n",
        "        total += tensors.size(0)\n",
        "        correct += (predicted == label).sum().item()\n",
        "        final_results.extend(predicted.cpu().numpy().tolist())\n",
        "\n",
        "print(f\"Test Accuracy: {100 * correct / total}%\")\n",
        "\n",
        "print(\"First 10 predicted results:\", final_results[:500])\n"
      ],
      "metadata": {
        "colab": {
          "base_uri": "https://localhost:8080/"
        },
        "id": "sKMFi-TiMK3U",
        "outputId": "24409abb-6941-49dc-bf51-2b73d53afa8a"
      },
      "execution_count": null,
      "outputs": [
        {
          "output_type": "stream",
          "name": "stdout",
          "text": [
            "Test Accuracy: 93.5%\n",
            "First 10 predicted results: [1.0, 0.0, 1.0, 0.0, 1.0, 1.0, 1.0, 0.0, 1.0, 1.0, 1.0, 0.0, 0.0, 1.0, 0.0, 0.0, 1.0, 0.0, 0.0, 0.0, 1.0, 0.0, 1.0, 0.0, 0.0, 1.0, 1.0, 1.0, 0.0, 0.0, 1.0, 0.0, 1.0, 1.0, 1.0, 1.0, 1.0, 0.0, 1.0, 0.0, 0.0, 0.0, 0.0, 0.0, 1.0, 1.0, 0.0, 0.0, 1.0, 1.0, 1.0, 1.0, 1.0, 1.0, 1.0, 1.0, 1.0, 1.0, 0.0, 0.0, 1.0, 1.0, 1.0, 1.0, 1.0, 1.0, 0.0, 1.0, 1.0, 0.0, 1.0, 1.0, 1.0, 0.0, 1.0, 1.0, 1.0, 1.0, 0.0, 0.0, 1.0, 0.0, 1.0, 1.0, 1.0, 0.0, 1.0, 1.0, 1.0, 1.0, 0.0, 1.0, 1.0, 0.0, 1.0, 0.0, 1.0, 0.0, 0.0, 0.0, 1.0, 0.0, 0.0, 1.0, 1.0, 1.0, 0.0, 0.0, 0.0, 0.0, 1.0, 1.0, 0.0, 0.0, 1.0, 0.0, 0.0, 0.0, 1.0, 1.0, 1.0, 0.0, 1.0, 1.0, 0.0, 0.0, 0.0, 1.0, 0.0, 1.0, 0.0, 0.0, 1.0, 1.0, 1.0, 1.0, 0.0, 0.0, 1.0, 1.0, 1.0, 0.0, 1.0, 1.0, 1.0, 0.0, 0.0, 0.0, 1.0, 0.0, 1.0, 1.0, 1.0, 1.0, 0.0, 1.0, 1.0, 0.0, 0.0, 1.0, 1.0, 0.0, 1.0, 0.0, 1.0, 0.0, 0.0, 0.0, 0.0, 1.0, 0.0, 1.0, 0.0, 1.0, 0.0, 0.0, 1.0, 0.0, 0.0, 1.0, 0.0, 1.0, 0.0, 1.0, 0.0, 1.0, 1.0, 1.0, 1.0, 1.0, 0.0, 0.0, 0.0, 1.0, 1.0, 1.0, 1.0, 1.0, 0.0, 0.0]\n"
          ]
        }
      ]
    },
    {
      "cell_type": "markdown",
      "source": [
        "**Result**"
      ],
      "metadata": {
        "id": "GTO8f-xSJKk-"
      }
    },
    {
      "cell_type": "code",
      "source": [
        "predicted = np.array(final_results)"
      ],
      "metadata": {
        "id": "EnAEL90uK-GX"
      },
      "execution_count": null,
      "outputs": []
    },
    {
      "cell_type": "code",
      "source": [
        "print(predicted)"
      ],
      "metadata": {
        "colab": {
          "base_uri": "https://localhost:8080/"
        },
        "id": "rQx7NCXxM0pb",
        "outputId": "cdbe6679-6411-4d9e-937d-68f7f9023384"
      },
      "execution_count": null,
      "outputs": [
        {
          "output_type": "stream",
          "name": "stdout",
          "text": [
            "[1. 0. 1. 0. 1. 1. 1. 0. 1. 1. 1. 0. 0. 1. 0. 0. 1. 0. 0. 0. 1. 0. 1. 0.\n",
            " 0. 1. 1. 1. 0. 0. 1. 0. 1. 1. 1. 1. 1. 0. 1. 0. 0. 0. 0. 0. 1. 1. 0. 0.\n",
            " 1. 1. 1. 1. 1. 1. 1. 1. 1. 1. 0. 0. 1. 1. 1. 1. 1. 1. 0. 1. 1. 0. 1. 1.\n",
            " 1. 0. 1. 1. 1. 1. 0. 0. 1. 0. 1. 1. 1. 0. 1. 1. 1. 1. 0. 1. 1. 0. 1. 0.\n",
            " 1. 0. 0. 0. 1. 0. 0. 1. 1. 1. 0. 0. 0. 0. 1. 1. 0. 0. 1. 0. 0. 0. 1. 1.\n",
            " 1. 0. 1. 1. 0. 0. 0. 1. 0. 1. 0. 0. 1. 1. 1. 1. 0. 0. 1. 1. 1. 0. 1. 1.\n",
            " 1. 0. 0. 0. 1. 0. 1. 1. 1. 1. 0. 1. 1. 0. 0. 1. 1. 0. 1. 0. 1. 0. 0. 0.\n",
            " 0. 1. 0. 1. 0. 1. 0. 0. 1. 0. 0. 1. 0. 1. 0. 1. 0. 1. 1. 1. 1. 1. 0. 0.\n",
            " 0. 1. 1. 1. 1. 1. 0. 0.]\n"
          ]
        }
      ]
    },
    {
      "cell_type": "code",
      "source": [
        "np.save('task2_resnet34_tinyimagenet.npy', predicted)"
      ],
      "metadata": {
        "id": "ZiqBt5rDM42g"
      },
      "execution_count": null,
      "outputs": []
    },
    {
      "cell_type": "code",
      "source": [
        "from google.colab import files\n",
        "files.download('task2_resnet34_tinyimagenet.npy')"
      ],
      "metadata": {
        "colab": {
          "base_uri": "https://localhost:8080/",
          "height": 17
        },
        "id": "0am0k042NP51",
        "outputId": "f480af77-70b4-47d6-e927-caa12f9fb80e"
      },
      "execution_count": null,
      "outputs": [
        {
          "output_type": "display_data",
          "data": {
            "text/plain": [
              "<IPython.core.display.Javascript object>"
            ],
            "application/javascript": [
              "\n",
              "    async function download(id, filename, size) {\n",
              "      if (!google.colab.kernel.accessAllowed) {\n",
              "        return;\n",
              "      }\n",
              "      const div = document.createElement('div');\n",
              "      const label = document.createElement('label');\n",
              "      label.textContent = `Downloading \"${filename}\": `;\n",
              "      div.appendChild(label);\n",
              "      const progress = document.createElement('progress');\n",
              "      progress.max = size;\n",
              "      div.appendChild(progress);\n",
              "      document.body.appendChild(div);\n",
              "\n",
              "      const buffers = [];\n",
              "      let downloaded = 0;\n",
              "\n",
              "      const channel = await google.colab.kernel.comms.open(id);\n",
              "      // Send a message to notify the kernel that we're ready.\n",
              "      channel.send({})\n",
              "\n",
              "      for await (const message of channel.messages) {\n",
              "        // Send a message to notify the kernel that we're ready.\n",
              "        channel.send({})\n",
              "        if (message.buffers) {\n",
              "          for (const buffer of message.buffers) {\n",
              "            buffers.push(buffer);\n",
              "            downloaded += buffer.byteLength;\n",
              "            progress.value = downloaded;\n",
              "          }\n",
              "        }\n",
              "      }\n",
              "      const blob = new Blob(buffers, {type: 'application/binary'});\n",
              "      const a = document.createElement('a');\n",
              "      a.href = window.URL.createObjectURL(blob);\n",
              "      a.download = filename;\n",
              "      div.appendChild(a);\n",
              "      a.click();\n",
              "      div.remove();\n",
              "    }\n",
              "  "
            ]
          },
          "metadata": {}
        },
        {
          "output_type": "display_data",
          "data": {
            "text/plain": [
              "<IPython.core.display.Javascript object>"
            ],
            "application/javascript": [
              "download(\"download_3f6cdfbd-ca6a-4cda-9ab3-f2c8e156ee80\", \"task2_resnet34_tinyimagenet.npy\", 1728)"
            ]
          },
          "metadata": {}
        }
      ]
    }
  ]
}